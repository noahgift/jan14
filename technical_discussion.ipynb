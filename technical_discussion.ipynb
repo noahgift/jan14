{
  "nbformat": 4,
  "nbformat_minor": 0,
  "metadata": {
    "colab": {
      "name": "technical-discussion.ipynb",
      "provenance": [],
      "authorship_tag": "ABX9TyNSTYUaUWC7UGLZW5LTHGSY",
      "include_colab_link": true
    },
    "kernelspec": {
      "name": "python3",
      "display_name": "Python 3"
    }
  },
  "cells": [
    {
      "cell_type": "markdown",
      "metadata": {
        "id": "view-in-github",
        "colab_type": "text"
      },
      "source": [
        "<a href=\"https://colab.research.google.com/github/noahgift/jan14/blob/master/technical_discussion.ipynb\" target=\"_parent\"><img src=\"https://colab.research.google.com/assets/colab-badge.svg\" alt=\"Open In Colab\"/></a>"
      ]
    },
    {
      "cell_type": "code",
      "metadata": {
        "id": "hUpJlDPFwslc",
        "colab_type": "code",
        "colab": {}
      },
      "source": [
        ""
      ],
      "execution_count": 0,
      "outputs": []
    },
    {
      "cell_type": "markdown",
      "metadata": {
        "id": "O8jR0ujDwtCt",
        "colab_type": "text"
      },
      "source": [
        "## my info\n"
      ]
    },
    {
      "cell_type": "code",
      "metadata": {
        "id": "eEt9ssfjwvmL",
        "colab_type": "code",
        "colab": {}
      },
      "source": [
        "def func():\n",
        "    print(hello)"
      ],
      "execution_count": 0,
      "outputs": []
    },
    {
      "cell_type": "code",
      "metadata": {
        "id": "PIWYFOlnwxpz",
        "colab_type": "code",
        "colab": {}
      },
      "source": [
        ""
      ],
      "execution_count": 0,
      "outputs": []
    }
  ]
}